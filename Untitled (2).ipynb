{
 "cells": [
  {
   "cell_type": "markdown",
   "id": "091e55ab",
   "metadata": {},
   "source": [
    "##### Using list comprehension ,list related functions or otherwise, create following list:\n",
    "* [[1, 2, 3, 4, 5, 6, 7), [1,4, 9, 16, 25, 36, 49]. [1, 8, 27, 64, 125, 216,343]]"
   ]
  },
  {
   "cell_type": "code",
   "execution_count": 1,
   "id": "6cba4308",
   "metadata": {},
   "outputs": [
    {
     "name": "stdout",
     "output_type": "stream",
     "text": [
      "[[1, 2, 3, 4, 5, 6, 7], [1, 4, 9, 16, 25, 36, 49], [1, 8, 27, 64, 125, 216, 343]]\n"
     ]
    }
   ],
   "source": [
    "list=[1,2,3,4,5,6,7] \n",
    "a=[]\n",
    "b=[]\n",
    "for number in list:\n",
    "    a.append(pow(number,2))\n",
    "    b.append(pow(number,3))\n",
    "list1=[list,a,b]\n",
    "print(list1)"
   ]
  },
  {
   "cell_type": "markdown",
   "id": "008f0e45",
   "metadata": {},
   "source": [
    "##### Use List comprehension to create a list of all numbers between 1 and 50 that are divisible by 3"
   ]
  },
  {
   "cell_type": "code",
   "execution_count": 2,
   "id": "ccf61caa",
   "metadata": {},
   "outputs": [
    {
     "name": "stdout",
     "output_type": "stream",
     "text": [
      "[0, 3, 6, 9, 12, 15, 18, 21, 24, 27, 30, 33, 36, 39, 42, 45, 48]\n"
     ]
    }
   ],
   "source": [
    "numbers=[number for number in range(50) if number % 3 ==0]\n",
    "print(numbers)"
   ]
  },
  {
   "cell_type": "markdown",
   "id": "a9e4e189",
   "metadata": {},
   "source": [
    "##### Use List Comprehension to create a list of the first letters of every word in the string below: \n",
    "* st = \"Create a list of the first letters of every word in this string'"
   ]
  },
  {
   "cell_type": "code",
   "execution_count": 3,
   "id": "5d054786",
   "metadata": {},
   "outputs": [
    {
     "name": "stdout",
     "output_type": "stream",
     "text": [
      "['c', 'a', 'l', 'o', 't', 'f', 'l', 'o', 'e', 'w', 'i', 't', 's']\n"
     ]
    }
   ],
   "source": [
    "st='creat a list of the first letters of every word in this string'\n",
    "s1=st.split()\n",
    "s2=[] \n",
    "for i in s1:\n",
    "    s2.append(i[0])\n",
    "print(s2)"
   ]
  },
  {
   "cell_type": "markdown",
   "id": "86ef783c",
   "metadata": {},
   "source": [
    "#####  Write a program to extract phone numbers for each location Consider this dictionary of addresses :\n",
    "* (\"home\" : [\"Hyderabad\",\"Lingampally\",\"Ph: 1234567890\"), \"office\":[\"Maharashtra\",\"Mumbai\",\"Ghatkopar\",\"Ph 5432167809\",\"Pin :400043\"). \"OOI\" : (\"Singapore\",\"Ph: 09876345\"]} "
   ]
  },
  {
   "cell_type": "code",
   "execution_count": 4,
   "id": "64ee2f48",
   "metadata": {},
   "outputs": [
    {
     "name": "stdout",
     "output_type": "stream",
     "text": [
      "['Ph: 1234567890', 'Ph : 5432167809', 'Ph: 09876345']\n"
     ]
    }
   ],
   "source": [
    "addresses={\"home\":[\"Hyderabad\",\"Lingampally\",\"Ph: 1234567890\"],\"office\":[\"Maharashtra\",\"Mumbai\",\"Ghatkopar\",\"Ph : 5432167809\"\n",
    ",\"Pin :400043\"], \"OOI\":[\"Singapore\",\"Ph: 09876345\"]}\n",
    "tuple=(addresses.get(\"home\"),addresses.get(\"office\"),addresses.get(\"OOI\"))\n",
    "(a,b,c)=tuple\n",
    "list2=[a[2],b[3],c[1]]\n",
    "print(list2)"
   ]
  },
  {
   "cell_type": "markdown",
   "id": "1beae452",
   "metadata": {},
   "source": [
    "##### Reverse the string 'Mega' using slicing"
   ]
  },
  {
   "cell_type": "code",
   "execution_count": 5,
   "id": "5b74d1ce",
   "metadata": {},
   "outputs": [
    {
     "data": {
      "text/plain": [
       "'agem'"
      ]
     },
     "execution_count": 5,
     "metadata": {},
     "output_type": "execute_result"
    }
   ],
   "source": [
    "x='mega'\n",
    "x[::-1]"
   ]
  },
  {
   "cell_type": "markdown",
   "id": "c1e69beb",
   "metadata": {},
   "source": [
    "#####  in the string below if the length of a word is even print \"even!\" \n",
    "* string = 'Print every word in this sentence that has an even number of letters'"
   ]
  },
  {
   "cell_type": "code",
   "execution_count": 6,
   "id": "7a9975d9",
   "metadata": {},
   "outputs": [
    {
     "name": "stdout",
     "output_type": "stream",
     "text": [
      "word\n",
      "in\n",
      "this\n",
      "sentence\n",
      "that\n",
      "an\n",
      "even\n",
      "number\n",
      "of\n"
     ]
    }
   ],
   "source": [
    "string='print every word in this sentence that has an even number of letters'\n",
    "s=string.split()\n",
    "for i in range(13):\n",
    "    x= s[i]\n",
    "    if (len(x)%2==0):\n",
    "        print(x)"
   ]
  },
  {
   "cell_type": "markdown",
   "id": "7d325cf6",
   "metadata": {},
   "source": [
    "#####  Create a tuple of 5 elements and then multiply each element of the tuple by 2 & save the results in a list"
   ]
  },
  {
   "cell_type": "code",
   "execution_count": 7,
   "id": "0c45f1a3",
   "metadata": {},
   "outputs": [
    {
     "name": "stdout",
     "output_type": "stream",
     "text": [
      "[2, 4, 6, 8, 10]\n"
     ]
    }
   ],
   "source": [
    "tuple=(1,2,3,4,5)\n",
    "tuple=(tuple[0]*2,tuple[1]*2,tuple[2]*2,tuple[3]*2,tuple[4]*2)\n",
    "(a,b,c,d,e) =tuple\n",
    "list=[a,b,c,d,e]\n",
    "print(list)"
   ]
  },
  {
   "cell_type": "markdown",
   "id": "f386c739",
   "metadata": {},
   "source": [
    "##### Task\n",
    "You are given a string. Split the string on a \" \" (space) delimiter and join using a - hyphen.\n",
    "##### Function Description\n",
    "Complete the split_and_join function in the editor below.\n",
    "split_and_join has the following parameters:\n",
    "* string line:\n",
    "a string of space-separated words\n",
    "##### Returns\n",
    "* string: the resulting string\n",
    "##### Input Format\n",
    "The one line contains a string consisting of space separated words.\n",
    "###### Sample Input\n",
    "this is a string   \n",
    "###### Sample Output\n",
    "this-is-a-string\n",
    "* url = https://www.hackerrank.com/challenges/python-string-split-and-join/problem"
   ]
  },
  {
   "cell_type": "code",
   "execution_count": 15,
   "id": "32fda176",
   "metadata": {
    "scrolled": true
   },
   "outputs": [
    {
     "name": "stdout",
     "output_type": "stream",
     "text": [
      "this is string\n",
      "this-is-string\n"
     ]
    }
   ],
   "source": [
    "def split_and_join(line):\n",
    "    # write your code here\n",
    "    list= line.split()\n",
    "    result=\"-\".join(list)\n",
    "    return result\n",
    "if __name__ == '__main__':\n",
    "    line = input()\n",
    "    result = split_and_join(line)\n",
    "    print(result)"
   ]
  },
  {
   "cell_type": "markdown",
   "id": "3e22b10f",
   "metadata": {},
   "source": [
    "##### Task\n",
    "Given a year, determine whether it is a leap year. If it is a leap year, return the Boolean True, otherwise return False.\n",
    "* Note:\n",
    "that the code stub provided reads from STDIN and passes arguments to the is_leap function. It is only necessary to complete the is_leap function.\n",
    "##### Input Format\n",
    "Read year, the year to test.\n",
    "##### Output Format\n",
    "The function must return a Boolean value (True/False). Output is handled by the provided code stub.\n",
    "##### Sample Input \n",
    "1990\n",
    "##### Sample Output \n",
    "False\n",
    "##### Explanation \n",
    "1990 is not a multiple of 4 hence it's not a leap year.\n",
    "* url= https://www.hackerrank.com/challenges/write-a-function/problem"
   ]
  },
  {
   "cell_type": "code",
   "execution_count": 19,
   "id": "03ea3e9d",
   "metadata": {},
   "outputs": [
    {
     "name": "stdout",
     "output_type": "stream",
     "text": [
      "1990\n",
      "False\n"
     ]
    }
   ],
   "source": [
    "def is_leap(year):\n",
    "    leap = False\n",
    "    \n",
    "    # Write your logic here\n",
    "    if (1900<=year)and(year<=pow(10,5)):\n",
    "        if (year%4==0)and(year%100!=0):\n",
    "            leap= True\n",
    "        elif (year%100==0)and(year%400==0):\n",
    "            leap= True\n",
    "        else:\n",
    "            leap= False\n",
    "    return leap\n",
    "\n",
    "year = int(input())\n",
    "print(is_leap(year))"
   ]
  },
  {
   "cell_type": "markdown",
   "id": "ecbd48f3",
   "metadata": {},
   "source": [
    "##### Task\n",
    "Given an integer, , perform the following conditional actions:\n",
    "* If  is odd, print Weird\n",
    "* If  is even and in the inclusive range of  to , print Not Weird\n",
    "* If  is even and in the inclusive range of  to , print Weird\n",
    "* If  is even and greater than , print Not Weird\n",
    "##### Input Format\n",
    "A single line containing a positive integer,n.\n",
    "##### Constraints\n",
    "1<=n<=100\n",
    "##### Output Format\n",
    "Print Weird if the number is weird. Otherwise, print Not Weird.\n",
    "##### Sample Input 0\n",
    "3\n",
    "##### Sample Output \n",
    "Weird\n",
    "##### Explanation \n",
    "n=3\n",
    "n is odd and odd numbers are weird, so print Weird.\n",
    "##### Sample Input\n",
    "24\n",
    "##### Sample Output \n",
    "Not Weird\n",
    "##### Explanation \n",
    "n=24\n",
    "n>20 and n is even, so it is not weird.\n",
    "* url= https://www.hackerrank.com/challenges/py-if-else/problem"
   ]
  },
  {
   "cell_type": "code",
   "execution_count": 2,
   "id": "4b12ac3b",
   "metadata": {},
   "outputs": [
    {
     "name": "stdout",
     "output_type": "stream",
     "text": [
      "24\n",
      "Not Weird\n"
     ]
    }
   ],
   "source": [
    "if __name__ == '__main__':\n",
    "    n = int(input().strip())\n",
    "if (n%2!=0):\n",
    "    print('Weird')\n",
    "if (n%2==0)and (n in range(2,5)):\n",
    "    print('Not Weird') \n",
    "if (n%2==0)and (n in range(6,21)):\n",
    "    print('Weird')\n",
    "if (n%2==0)and (n >20):\n",
    "    print('Not Weird')"
   ]
  },
  {
   "cell_type": "markdown",
   "id": "78bac69d",
   "metadata": {},
   "source": [
    "##### counts how many times the letter “r” appears in the phrase bellow and then print it out .\n",
    "* phrase = \"Is it better to have an outlier in your own data ? of course not, to be content with reality; if it's not so bright as dreams,create your fav routine \"\n"
   ]
  },
  {
   "cell_type": "code",
   "execution_count": 11,
   "id": "70bd0f94",
   "metadata": {},
   "outputs": [
    {
     "name": "stdout",
     "output_type": "stream",
     "text": [
      "10\n"
     ]
    }
   ],
   "source": [
    "phrase = \"Is it better to have an outlier in your own data ? of course not, to be content with reality; if it's not so bright as dreams,create your fav routine \"\n",
    "list=phrase.split()\n",
    "s=0\n",
    "for i in list:\n",
    "    a=i.count('r')\n",
    "    s+=a\n",
    "print(s)"
   ]
  },
  {
   "cell_type": "code",
   "execution_count": null,
   "id": "f968fb7f",
   "metadata": {},
   "outputs": [],
   "source": []
  }
 ],
 "metadata": {
  "kernelspec": {
   "display_name": "Python 3 (ipykernel)",
   "language": "python",
   "name": "python3"
  },
  "language_info": {
   "codemirror_mode": {
    "name": "ipython",
    "version": 3
   },
   "file_extension": ".py",
   "mimetype": "text/x-python",
   "name": "python",
   "nbconvert_exporter": "python",
   "pygments_lexer": "ipython3",
   "version": "3.9.7"
  }
 },
 "nbformat": 4,
 "nbformat_minor": 5
}
